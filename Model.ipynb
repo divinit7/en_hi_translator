{
 "cells": [
  {
   "cell_type": "code",
   "execution_count": 1,
   "id": "eb35203b",
   "metadata": {},
   "outputs": [],
   "source": [
    "import transformers \n",
    "import torch\n",
    "import datasets\n",
    "from datasets import Dataset"
   ]
  },
  {
   "cell_type": "code",
   "execution_count": 2,
   "id": "2f52efa0",
   "metadata": {},
   "outputs": [],
   "source": [
    "import pandas as pd\n",
    "data_dev = pd.read_xml(\"./data/NEWS2018_M-EnHi_dev.xml\")\n",
    "data_train = pd.read_xml(\"./data/NEWS2018_M-EnHi_trn.xml\")"
   ]
  },
  {
   "cell_type": "code",
   "execution_count": 3,
   "id": "42be43bd",
   "metadata": {},
   "outputs": [
    {
     "data": {
      "text/html": [
       "<div>\n",
       "<style scoped>\n",
       "    .dataframe tbody tr th:only-of-type {\n",
       "        vertical-align: middle;\n",
       "    }\n",
       "\n",
       "    .dataframe tbody tr th {\n",
       "        vertical-align: top;\n",
       "    }\n",
       "\n",
       "    .dataframe thead th {\n",
       "        text-align: right;\n",
       "    }\n",
       "</style>\n",
       "<table border=\"1\" class=\"dataframe\">\n",
       "  <thead>\n",
       "    <tr style=\"text-align: right;\">\n",
       "      <th></th>\n",
       "      <th>ID</th>\n",
       "      <th>SourceName</th>\n",
       "      <th>TargetName</th>\n",
       "    </tr>\n",
       "  </thead>\n",
       "  <tbody>\n",
       "    <tr>\n",
       "      <th>0</th>\n",
       "      <td>1</td>\n",
       "      <td>aachaaryanandana</td>\n",
       "      <td>आचार्यनंदना</td>\n",
       "    </tr>\n",
       "    <tr>\n",
       "      <th>1</th>\n",
       "      <td>2</td>\n",
       "      <td>aachaarysut</td>\n",
       "      <td>आचार्यसुत</td>\n",
       "    </tr>\n",
       "    <tr>\n",
       "      <th>2</th>\n",
       "      <td>3</td>\n",
       "      <td>aacharynandan</td>\n",
       "      <td>आचार्यनंदन</td>\n",
       "    </tr>\n",
       "    <tr>\n",
       "      <th>3</th>\n",
       "      <td>4</td>\n",
       "      <td>aacharynandanaa</td>\n",
       "      <td>आचार्यनंदना</td>\n",
       "    </tr>\n",
       "    <tr>\n",
       "      <th>4</th>\n",
       "      <td>5</td>\n",
       "      <td>aadamkhor</td>\n",
       "      <td>आदमखोर</td>\n",
       "    </tr>\n",
       "  </tbody>\n",
       "</table>\n",
       "</div>"
      ],
      "text/plain": [
       "   ID        SourceName   TargetName\n",
       "0   1  aachaaryanandana  आचार्यनंदना\n",
       "1   2       aachaarysut    आचार्यसुत\n",
       "2   3     aacharynandan   आचार्यनंदन\n",
       "3   4   aacharynandanaa  आचार्यनंदना\n",
       "4   5         aadamkhor       आदमखोर"
      ]
     },
     "execution_count": 3,
     "metadata": {},
     "output_type": "execute_result"
    }
   ],
   "source": [
    "data_dev.head()"
   ]
  },
  {
   "cell_type": "code",
   "execution_count": 4,
   "id": "191c7108",
   "metadata": {},
   "outputs": [],
   "source": [
    "translation_list = []\n",
    "for src, trgt in zip(data_dev['SourceName'], data_dev['TargetName']):\n",
    "    dic = {}\n",
    "    dic['en'] = src\n",
    "    dic['hi'] = trgt\n",
    "    translation_list.append(dic)\n",
    "    \n",
    "data_dev['translation'] = translation_list"
   ]
  },
  {
   "cell_type": "code",
   "execution_count": 5,
   "id": "2a76e035",
   "metadata": {},
   "outputs": [],
   "source": [
    "translation_list = []\n",
    "for src, trgt in zip(data_train['SourceName'], data_train['TargetName']):\n",
    "    dic = {}\n",
    "    dic['en'] = src\n",
    "    dic['hi'] = trgt\n",
    "    translation_list.append(dic)\n",
    "    \n",
    "data_train['translation'] = translation_list"
   ]
  },
  {
   "cell_type": "code",
   "execution_count": 6,
   "id": "91153254",
   "metadata": {},
   "outputs": [],
   "source": [
    "for col in ['SourceName', 'TargetName']:\n",
    "    del data_dev[col]\n",
    "    del data_train[col]"
   ]
  },
  {
   "cell_type": "code",
   "execution_count": 7,
   "id": "7428371b",
   "metadata": {},
   "outputs": [],
   "source": [
    "data_dev.columns = ['id', 'translation']\n",
    "data_train.columns = ['id', 'translation']"
   ]
  },
  {
   "cell_type": "code",
   "execution_count": 8,
   "id": "42e7e509",
   "metadata": {},
   "outputs": [],
   "source": [
    "ds_dev = Dataset.from_pandas(data_dev)\n",
    "ds_train = Dataset.from_pandas(data_train)"
   ]
  },
  {
   "cell_type": "code",
   "execution_count": 9,
   "id": "760956d5",
   "metadata": {},
   "outputs": [
    {
     "data": {
      "text/plain": [
       "DatasetDict({\n",
       "    train: Dataset({\n",
       "        features: ['id', 'translation'],\n",
       "        num_rows: 11643\n",
       "    })\n",
       "    test: Dataset({\n",
       "        features: ['id', 'translation'],\n",
       "        num_rows: 1294\n",
       "    })\n",
       "})"
      ]
     },
     "execution_count": 9,
     "metadata": {},
     "output_type": "execute_result"
    }
   ],
   "source": [
    "split_datasets = ds_train.train_test_split(train_size=0.9, seed=20)\n",
    "split_datasets"
   ]
  },
  {
   "cell_type": "code",
   "execution_count": 10,
   "id": "39907330",
   "metadata": {},
   "outputs": [],
   "source": [
    "from transformers import AutoTokenizer, AutoModelForSeq2SeqLM\n",
    "tokenizer = AutoTokenizer.from_pretrained(\"Helsinki-NLP/opus-mt-en-hi\")\n",
    "model = AutoModelForSeq2SeqLM.from_pretrained(\"Helsinki-NLP/opus-mt-en-hi\")"
   ]
  },
  {
   "cell_type": "code",
   "execution_count": 11,
   "id": "09d42dc3",
   "metadata": {},
   "outputs": [],
   "source": [
    "# for i in range(ds_dev.shape[0]):\n",
    "#     target = ds_dev[i]['TargetName']\n",
    "#     hin_snippet = ds_dev[i]['SourceName']\n",
    "\n",
    "#     inputs = tokenizer.encode(\n",
    "#         hin_snippet, return_tensors=\"pt\",padding=True,max_length=512,truncation=True)\n",
    "\n",
    "#     outputs = model.generate(\n",
    "#         inputs, max_length=128, num_beams=None, early_stopping=True)\n",
    "\n",
    "#     translated = tokenizer.decode(outputs[0]).replace('<pad>',\"\").strip().lower()\n",
    "#     print(hin_snippet, translated, target)\n",
    "#     break"
   ]
  },
  {
   "cell_type": "code",
   "execution_count": 28,
   "id": "5c1edfd4",
   "metadata": {},
   "outputs": [],
   "source": [
    "max_length = 128\n",
    "\n",
    "def preprocess_function(examples):\n",
    "    inputs = [ex['en'] for ex in examples['translation']]\n",
    "    targets = [ex['hi'] for ex in examples['translation']]\n",
    "    model_inputs = tokenizer(\n",
    "        inputs, \n",
    "        text_target=targets,\n",
    "        max_length=max_length,\n",
    "        padding=True,\n",
    "#         truncation=True\n",
    "    )\n",
    "    return model_inputs\n",
    "    "
   ]
  },
  {
   "cell_type": "code",
   "execution_count": 29,
   "id": "a2e01408",
   "metadata": {},
   "outputs": [
    {
     "data": {
      "application/vnd.jupyter.widget-view+json": {
       "model_id": "68b176644547482cbbe3c6752cf52b13",
       "version_major": 2,
       "version_minor": 0
      },
      "text/plain": [
       "  0%|          | 0/12 [00:00<?, ?ba/s]"
      ]
     },
     "metadata": {},
     "output_type": "display_data"
    },
    {
     "name": "stderr",
     "output_type": "stream",
     "text": [
      "/home/krishna/testing_translation/env/lib/python3.8/site-packages/transformers/tokenization_utils_base.py:2322: UserWarning: `max_length` is ignored when `padding`=`True` and there is no truncation strategy. To pad to max length, use `padding='max_length'`.\n",
      "  warnings.warn(\n"
     ]
    },
    {
     "data": {
      "application/vnd.jupyter.widget-view+json": {
       "model_id": "adaece9c056c4773bc760eb4c4bdc014",
       "version_major": 2,
       "version_minor": 0
      },
      "text/plain": [
       "  0%|          | 0/2 [00:00<?, ?ba/s]"
      ]
     },
     "metadata": {},
     "output_type": "display_data"
    }
   ],
   "source": [
    "tokenized_datasets_train = split_datasets.map(\n",
    "                    preprocess_function,\n",
    "                    batched=True,\n",
    "                    remove_columns=ds_train.column_names,\n",
    ")"
   ]
  },
  {
   "cell_type": "code",
   "execution_count": 30,
   "id": "19364c63",
   "metadata": {},
   "outputs": [],
   "source": [
    "from transformers import DataCollatorForSeq2Seq\n",
    "\n",
    "data_collator = DataCollatorForSeq2Seq(tokenizer, model=model, return_tensors='pt')"
   ]
  },
  {
   "cell_type": "code",
   "execution_count": 31,
   "id": "b093b7df",
   "metadata": {},
   "outputs": [],
   "source": [
    "# tokenized_datasets_train['train'][1]"
   ]
  },
  {
   "cell_type": "code",
   "execution_count": 32,
   "id": "e0201adb",
   "metadata": {},
   "outputs": [
    {
     "data": {
      "text/plain": [
       "dict_keys(['input_ids', 'attention_mask', 'labels', 'decoder_input_ids'])"
      ]
     },
     "execution_count": 32,
     "metadata": {},
     "output_type": "execute_result"
    }
   ],
   "source": [
    "batch = data_collator([tokenized_datasets_train['train'][i] for i in range(1, 3)])\n",
    "batch.keys()"
   ]
  },
  {
   "cell_type": "code",
   "execution_count": 33,
   "id": "108bc44c",
   "metadata": {},
   "outputs": [
    {
     "data": {
      "text/plain": [
       "DatasetDict({\n",
       "    train: Dataset({\n",
       "        features: ['input_ids', 'attention_mask', 'labels'],\n",
       "        num_rows: 11643\n",
       "    })\n",
       "    test: Dataset({\n",
       "        features: ['input_ids', 'attention_mask', 'labels'],\n",
       "        num_rows: 1294\n",
       "    })\n",
       "})"
      ]
     },
     "execution_count": 33,
     "metadata": {},
     "output_type": "execute_result"
    }
   ],
   "source": [
    "tokenized_datasets_train"
   ]
  },
  {
   "cell_type": "code",
   "execution_count": 34,
   "id": "2c285694",
   "metadata": {},
   "outputs": [],
   "source": [
    "import evaluate\n",
    "\n",
    "metric = evaluate.load(\"sacrebleu\")"
   ]
  },
  {
   "cell_type": "code",
   "execution_count": 35,
   "id": "94f51f09",
   "metadata": {},
   "outputs": [],
   "source": [
    "import numpy as np\n",
    "\n",
    "def compute_metrics(eval_preds):\n",
    "    preds, labels = eval_preds\n",
    "    \n",
    "    if isinstance(preds, tuple):\n",
    "        preds =  preds[0]\n",
    "        \n",
    "    decoded_preds = tokenizer.batch_decode(preds, skip_special_tokens=True)\n",
    "    \n",
    "    labels = np.where(labels!=-100, labels, tokenizer.pad_token_id)\n",
    "    decoded_labels = tokenizer.batch_decode(labels, skip_special_tokens=True)\n",
    "    \n",
    "    decoded_preds = [pred.strip() for pred in decoded_preds]\n",
    "    decoded_labels = [[label.strip()] for label in decoded_labels]\n",
    "    \n",
    "    result = metric.compute(predictions=decoded_preds,\n",
    "                           references=decoded_labels)\n",
    "    return {        'bleu': result['score']    }"
   ]
  },
  {
   "cell_type": "code",
   "execution_count": 51,
   "id": "3ea75f17",
   "metadata": {},
   "outputs": [
    {
     "name": "stderr",
     "output_type": "stream",
     "text": [
      "PyTorch: setting up devices\n"
     ]
    }
   ],
   "source": [
    "from transformers import Seq2SeqTrainingArguments\n",
    "\n",
    "args = Seq2SeqTrainingArguments(\n",
    "    f'divyanshu-finetuned-hi-en',\n",
    "    evaluation_strategy='epoch',\n",
    "    save_strategy='epoch',\n",
    "    learning_rate=2e-5,\n",
    "    per_device_eval_batch_size=16,\n",
    "    per_device_train_batch_size=4,\n",
    "    weight_decay=0.01,\n",
    "    save_total_limit=2,\n",
    "    num_train_epochs=5,\n",
    "#     gradient_accumulation_steps=4,\n",
    "    report_to='wandb',\n",
    "    predict_with_generate=True,\n",
    "    fp16=True\n",
    ")"
   ]
  },
  {
   "cell_type": "code",
   "execution_count": 52,
   "id": "43089525",
   "metadata": {},
   "outputs": [],
   "source": [
    "from transformers import Seq2SeqTrainer"
   ]
  },
  {
   "cell_type": "code",
   "execution_count": 53,
   "id": "9b7cea88",
   "metadata": {},
   "outputs": [],
   "source": [
    "import wandb"
   ]
  },
  {
   "cell_type": "code",
   "execution_count": 54,
   "id": "4a936f62",
   "metadata": {},
   "outputs": [
    {
     "name": "stderr",
     "output_type": "stream",
     "text": [
      "Using cuda_amp half precision backend\n"
     ]
    }
   ],
   "source": [
    "trainer = Seq2SeqTrainer(\n",
    "    model,\n",
    "    args,\n",
    "    train_dataset=tokenized_datasets_train['train'],\n",
    "    data_collator=data_collator,\n",
    "    eval_dataset=tokenized_datasets_train['test'],\n",
    "    tokenizer=tokenizer,\n",
    "    compute_metrics=compute_metrics,\n",
    ")"
   ]
  },
  {
   "cell_type": "code",
   "execution_count": 55,
   "id": "4d699bff",
   "metadata": {},
   "outputs": [],
   "source": [
    "# for i in tokenized_datasets_train['train']:\n",
    "#     print(i)"
   ]
  },
  {
   "cell_type": "code",
   "execution_count": 56,
   "id": "9c20f8a8",
   "metadata": {},
   "outputs": [],
   "source": [
    "# trainer.evaluate(max_length=max_length)"
   ]
  },
  {
   "cell_type": "code",
   "execution_count": 57,
   "id": "a53ae7d8",
   "metadata": {},
   "outputs": [
    {
     "name": "stderr",
     "output_type": "stream",
     "text": [
      "***** Running training *****\n",
      "  Num examples = 11643\n",
      "  Num Epochs = 5\n",
      "  Instantaneous batch size per device = 4\n",
      "  Total train batch size (w. parallel, distributed & accumulation) = 4\n",
      "  Gradient Accumulation steps = 1\n",
      "  Total optimization steps = 14555\n",
      "  Number of trainable parameters = 75856896\n",
      "Automatic Weights & Biases logging enabled, to disable set os.environ[\"WANDB_DISABLED\"] = \"true\"\n"
     ]
    },
    {
     "data": {
      "text/html": [
       "\n",
       "    <div>\n",
       "      \n",
       "      <progress value='14555' max='14555' style='width:300px; height:20px; vertical-align: middle;'></progress>\n",
       "      [14555/14555 24:44, Epoch 5/5]\n",
       "    </div>\n",
       "    <table border=\"1\" class=\"dataframe\">\n",
       "  <thead>\n",
       " <tr style=\"text-align: left;\">\n",
       "      <th>Epoch</th>\n",
       "      <th>Training Loss</th>\n",
       "      <th>Validation Loss</th>\n",
       "      <th>Bleu</th>\n",
       "    </tr>\n",
       "  </thead>\n",
       "  <tbody>\n",
       "    <tr>\n",
       "      <td>1</td>\n",
       "      <td>0.636300</td>\n",
       "      <td>0.725785</td>\n",
       "      <td>11.080936</td>\n",
       "    </tr>\n",
       "    <tr>\n",
       "      <td>2</td>\n",
       "      <td>0.505300</td>\n",
       "      <td>0.702442</td>\n",
       "      <td>11.760029</td>\n",
       "    </tr>\n",
       "    <tr>\n",
       "      <td>3</td>\n",
       "      <td>0.422600</td>\n",
       "      <td>0.692455</td>\n",
       "      <td>16.148158</td>\n",
       "    </tr>\n",
       "    <tr>\n",
       "      <td>4</td>\n",
       "      <td>0.366500</td>\n",
       "      <td>0.686729</td>\n",
       "      <td>15.230108</td>\n",
       "    </tr>\n",
       "    <tr>\n",
       "      <td>5</td>\n",
       "      <td>0.331300</td>\n",
       "      <td>0.685952</td>\n",
       "      <td>15.028662</td>\n",
       "    </tr>\n",
       "  </tbody>\n",
       "</table><p>"
      ],
      "text/plain": [
       "<IPython.core.display.HTML object>"
      ]
     },
     "metadata": {},
     "output_type": "display_data"
    },
    {
     "name": "stderr",
     "output_type": "stream",
     "text": [
      "***** Running Evaluation *****\n",
      "  Num examples = 1294\n",
      "  Batch size = 16\n",
      "Saving model checkpoint to divyanshu-finetuned-hi-en/checkpoint-2911\n",
      "Configuration saved in divyanshu-finetuned-hi-en/checkpoint-2911/config.json\n",
      "Model weights saved in divyanshu-finetuned-hi-en/checkpoint-2911/pytorch_model.bin\n",
      "tokenizer config file saved in divyanshu-finetuned-hi-en/checkpoint-2911/tokenizer_config.json\n",
      "Special tokens file saved in divyanshu-finetuned-hi-en/checkpoint-2911/special_tokens_map.json\n",
      "Deleting older checkpoint [divyanshu-finetuned-hi-en/checkpoint-2908] due to args.save_total_limit\n",
      "***** Running Evaluation *****\n",
      "  Num examples = 1294\n",
      "  Batch size = 16\n",
      "Saving model checkpoint to divyanshu-finetuned-hi-en/checkpoint-5822\n",
      "Configuration saved in divyanshu-finetuned-hi-en/checkpoint-5822/config.json\n",
      "Model weights saved in divyanshu-finetuned-hi-en/checkpoint-5822/pytorch_model.bin\n",
      "tokenizer config file saved in divyanshu-finetuned-hi-en/checkpoint-5822/tokenizer_config.json\n",
      "Special tokens file saved in divyanshu-finetuned-hi-en/checkpoint-5822/special_tokens_map.json\n",
      "Deleting older checkpoint [divyanshu-finetuned-hi-en/checkpoint-3635] due to args.save_total_limit\n",
      "***** Running Evaluation *****\n",
      "  Num examples = 1294\n",
      "  Batch size = 16\n",
      "Saving model checkpoint to divyanshu-finetuned-hi-en/checkpoint-8733\n",
      "Configuration saved in divyanshu-finetuned-hi-en/checkpoint-8733/config.json\n",
      "Model weights saved in divyanshu-finetuned-hi-en/checkpoint-8733/pytorch_model.bin\n",
      "tokenizer config file saved in divyanshu-finetuned-hi-en/checkpoint-8733/tokenizer_config.json\n",
      "Special tokens file saved in divyanshu-finetuned-hi-en/checkpoint-8733/special_tokens_map.json\n",
      "Deleting older checkpoint [divyanshu-finetuned-hi-en/checkpoint-2911] due to args.save_total_limit\n",
      "***** Running Evaluation *****\n",
      "  Num examples = 1294\n",
      "  Batch size = 16\n",
      "Saving model checkpoint to divyanshu-finetuned-hi-en/checkpoint-11644\n",
      "Configuration saved in divyanshu-finetuned-hi-en/checkpoint-11644/config.json\n",
      "Model weights saved in divyanshu-finetuned-hi-en/checkpoint-11644/pytorch_model.bin\n",
      "tokenizer config file saved in divyanshu-finetuned-hi-en/checkpoint-11644/tokenizer_config.json\n",
      "Special tokens file saved in divyanshu-finetuned-hi-en/checkpoint-11644/special_tokens_map.json\n",
      "Deleting older checkpoint [divyanshu-finetuned-hi-en/checkpoint-5822] due to args.save_total_limit\n",
      "***** Running Evaluation *****\n",
      "  Num examples = 1294\n",
      "  Batch size = 16\n",
      "Saving model checkpoint to divyanshu-finetuned-hi-en/checkpoint-14555\n",
      "Configuration saved in divyanshu-finetuned-hi-en/checkpoint-14555/config.json\n",
      "Model weights saved in divyanshu-finetuned-hi-en/checkpoint-14555/pytorch_model.bin\n",
      "tokenizer config file saved in divyanshu-finetuned-hi-en/checkpoint-14555/tokenizer_config.json\n",
      "Special tokens file saved in divyanshu-finetuned-hi-en/checkpoint-14555/special_tokens_map.json\n",
      "Deleting older checkpoint [divyanshu-finetuned-hi-en/checkpoint-8733] due to args.save_total_limit\n",
      "\n",
      "\n",
      "Training completed. Do not forget to share your model on huggingface.co/models =)\n",
      "\n",
      "\n"
     ]
    },
    {
     "data": {
      "text/plain": [
       "TrainOutput(global_step=14555, training_loss=0.45544327775541754, metrics={'train_runtime': 1484.6663, 'train_samples_per_second': 39.211, 'train_steps_per_second': 9.804, 'total_flos': 355716200005632.0, 'train_loss': 0.45544327775541754, 'epoch': 5.0})"
      ]
     },
     "execution_count": 57,
     "metadata": {},
     "output_type": "execute_result"
    }
   ],
   "source": [
    "trainer.train()"
   ]
  },
  {
   "cell_type": "markdown",
   "id": "441b9abe",
   "metadata": {},
   "source": [
    "Dev set evaluation"
   ]
  },
  {
   "cell_type": "code",
   "execution_count": 58,
   "id": "6cf1faf0",
   "metadata": {},
   "outputs": [
    {
     "name": "stderr",
     "output_type": "stream",
     "text": [
      "***** Running Evaluation *****\n",
      "  Num examples = 1294\n",
      "  Batch size = 16\n"
     ]
    },
    {
     "data": {
      "text/html": [
       "\n",
       "    <div>\n",
       "      \n",
       "      <progress value='81' max='81' style='width:300px; height:20px; vertical-align: middle;'></progress>\n",
       "      [81/81 00:11]\n",
       "    </div>\n",
       "    "
      ],
      "text/plain": [
       "<IPython.core.display.HTML object>"
      ]
     },
     "metadata": {},
     "output_type": "display_data"
    },
    {
     "data": {
      "text/plain": [
       "{'eval_loss': 0.6859515905380249,\n",
       " 'eval_bleu': 15.0286623765927,\n",
       " 'eval_runtime': 13.6359,\n",
       " 'eval_samples_per_second': 94.897,\n",
       " 'eval_steps_per_second': 5.94,\n",
       " 'epoch': 5.0}"
      ]
     },
     "execution_count": 58,
     "metadata": {},
     "output_type": "execute_result"
    }
   ],
   "source": [
    "trainer.evaluate(max_length=max_length)"
   ]
  },
  {
   "cell_type": "code",
   "execution_count": null,
   "id": "f4d02a28",
   "metadata": {},
   "outputs": [],
   "source": []
  }
 ],
 "metadata": {
  "kernelspec": {
   "display_name": "translation_env",
   "language": "python",
   "name": "translation_env"
  },
  "language_info": {
   "codemirror_mode": {
    "name": "ipython",
    "version": 3
   },
   "file_extension": ".py",
   "mimetype": "text/x-python",
   "name": "python",
   "nbconvert_exporter": "python",
   "pygments_lexer": "ipython3",
   "version": "3.8.10"
  }
 },
 "nbformat": 4,
 "nbformat_minor": 5
}
